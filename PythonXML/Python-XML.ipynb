{
 "cells": [
  {
   "cell_type": "markdown",
   "metadata": {},
   "source": [
    "# Introdution\n",
    "\n",
    "In this program, we parse an XML file using Python's ElementTree XML API and extract some interesting data and present it in a way humans can understand it. For this exercise, I have taken the XML data of Formula 1 Grand Prix held in Melbourne, Australia which is available at this [link](http://www.enetpulse.com/documentation/). After the file is parsed, the data is presented in the console as well as written to a file."
   ]
  },
  {
   "cell_type": "code",
   "execution_count": 11,
   "metadata": {
    "collapsed": true
   },
   "outputs": [],
   "source": [
    "#!/usr/bin/python\n",
    "# Python program to parse a XML file\n",
    "\n",
    "\"\"\"\n",
    "Usage: Python-XML.py\n",
    "\n",
    "Process a XML file and generates human readable content\n",
    "\n",
    "Options\n",
    "_______\n",
    "\n",
    "-h or help\t\tDisplays this message\n",
    "\"\"\"\n",
    "\n",
    "import xml.etree.ElementTree as ET\n",
    "from sys import argv, exit"
   ]
  },
  {
   "cell_type": "markdown",
   "metadata": {},
   "source": [
    "Firstly, we print the doc message followed by importing the ElementTree XML API as `ET` and a few others such as `argv` and `exit` from the `sys` module."
   ]
  },
  {
   "cell_type": "code",
   "execution_count": 12,
   "metadata": {
    "collapsed": true
   },
   "outputs": [],
   "source": [
    "#if len(argv) > 1:\n",
    "#\tprint(__doc__)\n",
    "#\texit(0)"
   ]
  },
  {
   "cell_type": "markdown",
   "metadata": {},
   "source": [
    "The above checks for the length of the initial argument to display the help message. Note these are commented out in the Ipython Notebook to avoid Ipython raising an exception as it tries to quit."
   ]
  },
  {
   "cell_type": "code",
   "execution_count": 13,
   "metadata": {
    "collapsed": false
   },
   "outputs": [
    {
     "name": "stdout",
     "output_type": "stream",
     "text": [
      "\n",
      "\n"
     ]
    }
   ],
   "source": [
    "with open('F1-Grand-Prix-Australia.xml', 'r') as xmlFile:\n",
    "\txmlTree = ET.parse(xmlFile)\n",
    "\n",
    "print \"\\n\"\n",
    "\n",
    "datawrite = open('XMLResults.txt', 'w+')"
   ]
  },
  {
   "cell_type": "markdown",
   "metadata": {},
   "source": [
    "We open the XML file as a `xmlFile` and parse it using the `ET.parse` method such that the entire XML file is represented as an XML tree structure. Subsequently, we open a file for writing the parsed results as we traverse the XML tree."
   ]
  },
  {
   "cell_type": "code",
   "execution_count": 14,
   "metadata": {
    "collapsed": false
   },
   "outputs": [
    {
     "name": "stdout",
     "output_type": "stream",
     "text": [
      "Trackname: Melbourne\n",
      "Kilometers: 307.6\n",
      "Laps: 58\n",
      "Live: yes\n",
      "laps: 58\n",
      "weather: Cloudy\n",
      "track_condition: Dry\n",
      "current_lap: 58\n",
      "fastest_lap_participantFK: 62454\n",
      "Fastest participant name: Kimi Raikkonen\n",
      "fastest_lap_time: 1:29.274\n"
     ]
    }
   ],
   "source": [
    "for treeProperties in xmlTree.findall('.//'):\n",
    "\tfor prop in treeProperties.findall('properties/property'):\n",
    "\t\tpropName = prop.get('name')\n",
    "\t\tpropValue = prop.get('value')\n",
    "\t\tif propName == 'startnumber' or propName == \"team\":\n",
    "\t\t\tbreak\n",
    "\t\telse:\n",
    "\t\t\tprint \"%s: %s\" % (propName, propValue)\n",
    "\t\t\tdatawrite.write('%s: %s' % (propName, propValue) + '\\n')\n",
    "\t\tfastest = prop.findall('.//participant')\n",
    "\t\tif fastest:\n",
    "\t\t\tfor f in fastest:\n",
    "\t\t\t\tfastestPerson = f.get('name')\n",
    "\t\t\t\tprint \"Fastest participant name:\", fastestPerson\n",
    "\t\t\t\tdatawrite.write('Fastest participant name: %s' % (fastestPerson) + '\\n')"
   ]
  },
  {
   "cell_type": "markdown",
   "metadata": {},
   "source": [
    "Firstly, we find all the subelements in the `XMLTree` using `findall('.//')` and subsequently loop through each one of them in order to search for children with the name `property`. Within these, we extract the `name` and `value` attributes using the `.get` method. We are interested in only a few attributes and hence we eliminate non-essential information through the `break` statement. Within the final child `property`, we have another element that has the fastest participant data and, this is searched using the `findall(.//participant)`. Similar to the former approach, we extract using `.get` method."
   ]
  },
  {
   "cell_type": "code",
   "execution_count": 15,
   "metadata": {
    "collapsed": false
   },
   "outputs": [
    {
     "name": "stdout",
     "output_type": "stream",
     "text": [
      "\n",
      "**Event participants**\n",
      "\n",
      "Participant number: 1\n",
      "Name: Charles Pic, Gender: male\n",
      "rank: 16\n",
      "duration: \n",
      "laps_behind: 2\n",
      "pitstops: 2\n",
      "laps: 56\n",
      "points: 0\n",
      "******************************************\n",
      "Participant number: 2\n",
      "Name: Giedo van der Garde, Gender: male\n",
      "rank: 18\n",
      "duration: \n",
      "laps_behind: 2\n",
      "pitstops: 3\n",
      "laps: 56\n",
      "points: 0\n",
      "******************************************\n",
      "Participant number: 3\n",
      "Name: Felipe Massa, Gender: male\n",
      "rank: 4\n",
      "duration: +33.500\n",
      "pitstops: 3\n",
      "laps: 58\n",
      "points: 12\n",
      "******************************************\n",
      "Participant number: 4\n",
      "Name: Fernando Alonso, Gender: male\n",
      "rank: 2\n",
      "duration: +12.400\n",
      "pitstops: 3\n",
      "laps: 58\n",
      "points: 18\n",
      "******************************************\n",
      "Participant number: 5\n",
      "Name: Paul di Resta, Gender: male\n",
      "rank: 8\n",
      "duration: +1:08.400\n",
      "pitstops: 2\n",
      "laps: 58\n",
      "points: 4\n",
      "******************************************\n",
      "Participant number: 6\n",
      "Name: Adrian Sutil, Gender: male\n",
      "rank: 7\n",
      "duration: +1:05.000\n",
      "pitstops: 2\n",
      "laps: 58\n",
      "points: 6\n",
      "******************************************\n",
      "Participant number: 7\n",
      "Name: Romain Grosjean, Gender: male\n",
      "rank: 10\n",
      "duration: +1:22.700\n",
      "pitstops: 3\n",
      "laps: 58\n",
      "points: 1\n",
      "******************************************\n",
      "Participant number: 8\n",
      "Name: Kimi Raikkonen, Gender: male\n",
      "rank: 1\n",
      "pitstops: 2\n",
      "laps: 58\n",
      "points: 25\n",
      "duration: 1:30:03.225\n",
      "******************************************\n",
      "Participant number: 9\n",
      "Name: Jules Bianchi, Gender: male\n",
      "rank: 15\n",
      "duration: \n",
      "laps_behind: 1\n",
      "pitstops: 3\n",
      "laps: 57\n",
      "points: 0\n",
      "******************************************\n",
      "Participant number: 10\n",
      "Name: Max Chilton, Gender: male\n",
      "rank: 17\n",
      "duration: \n",
      "laps_behind: 2\n",
      "pitstops: 3\n",
      "laps: 56\n",
      "points: 0\n",
      "******************************************\n",
      "Participant number: 11\n",
      "Name: Sergio Perez, Gender: male\n",
      "rank: 11\n",
      "duration: +1:23.300\n",
      "pitstops: 3\n",
      "laps: 58\n",
      "points: 0\n",
      "******************************************\n",
      "Participant number: 12\n",
      "Name: Jenson Button, Gender: male\n",
      "rank: 9\n",
      "duration: +1:21.600\n",
      "pitstops: 3\n",
      "laps: 58\n",
      "points: 2\n",
      "******************************************\n",
      "Participant number: 13\n",
      "Name: Nico Rosberg, Gender: male\n",
      "pitstops: 1\n",
      "points: 0\n",
      "laps: 26\n",
      "rank: 20\n",
      "laps_behind: 32\n",
      "comment: OUT: Electrical\n",
      "******************************************\n",
      "Participant number: 14\n",
      "Name: Lewis Hamilton, Gender: male\n",
      "rank: 5\n",
      "duration: +45.500\n",
      "pitstops: 3\n",
      "laps: 58\n",
      "points: 10\n",
      "******************************************\n",
      "Participant number: 15\n",
      "Name: Mark Webber, Gender: male\n",
      "rank: 6\n",
      "duration: +46.800\n",
      "pitstops: 3\n",
      "laps: 58\n",
      "points: 8\n",
      "******************************************\n",
      "Participant number: 16\n",
      "Name: Sebastian Vettel, Gender: male\n",
      "rank: 3\n",
      "duration: +22.300\n",
      "pitstops: 3\n",
      "laps: 58\n",
      "points: 15\n",
      "******************************************\n",
      "Participant number: 17\n",
      "Name: Nico Hülkenberg, Gender: male\n",
      "pitstops: 1\n",
      "points: 0\n",
      "laps: 0\n",
      "laps_behind: 58\n",
      "comment: OUT: Fuel system\n",
      "rank: 22\n",
      "******************************************\n",
      "Participant number: 18\n",
      "Name: Esteban Gutierrez, Gender: male\n",
      "rank: 13\n",
      "duration: \n",
      "laps_behind: 1\n",
      "pitstops: 2\n",
      "laps: 57\n",
      "points: 0\n",
      "******************************************\n",
      "Participant number: 19\n",
      "Name: Jean-Eric Vergne, Gender: male\n",
      "rank: 12\n",
      "duration: +1:23.800\n",
      "pitstops: 3\n",
      "laps: 58\n",
      "points: 0\n",
      "******************************************\n",
      "Participant number: 20\n",
      "Name: Daniel Ricciardo, Gender: male\n",
      "rank: 19\n",
      "pitstops: 3\n",
      "points: 0\n",
      "laps: 39\n",
      "laps_behind: 19\n",
      "comment: OUT: Exhaust\n",
      "******************************************\n",
      "Participant number: 21\n",
      "Name: Pastor Maldonado, Gender: male\n",
      "pitstops: 1\n",
      "points: 0\n",
      "laps: 24\n",
      "rank: 21\n",
      "laps_behind: 34\n",
      "comment: OUT: Spin\n",
      "******************************************\n",
      "Participant number: 22\n",
      "Name: Valtteri Bottas, Gender: male\n",
      "rank: 14\n",
      "duration: \n",
      "laps_behind: 1\n",
      "pitstops: 3\n",
      "laps: 57\n",
      "points: 0\n",
      "******************************************\n"
     ]
    }
   ],
   "source": [
    "print \"\\n**Event participants**\\n\"\n",
    "datawrite.write('\\n*Event participants**\\n')\n",
    "\n",
    "for treeEvent in xmlTree.findall('.//'):\n",
    "\tfor event in treeEvent.findall('event/event_participant'):\n",
    "\t\tparticipantNumber = event.get('number')\n",
    "\t\tparticipantName = event.find('participant').get('name')\n",
    "\t\tparticipantGender = event.find('participant').get('gender')\n",
    "\n",
    "\t\tprint \"Participant number: %s\" % participantNumber\n",
    "\t\tdatawrite.write('Participant number: %s' % (participantNumber) + '\\n')\t\t\n",
    "\t\tprint \"Name: %s, Gender: %s\" % (participantName, participantGender)\n",
    "\t\tdatawrite.write('Name: %s, Gender: %s' % (participantName.encode('utf8'), participantGender) + '\\n')\n",
    "\t\t\n",
    "\t\t\n",
    "\t\tresults = event.findall('.//result')\n",
    "\t\tif results:\n",
    "\t\t\tfor result in results:\n",
    "\t\t\t\tresultName = result.get('result_code')\n",
    "\t\t\t\tresultValue = result.get('value')\n",
    "\t\t\t\tprint \"%s: %s\" % (resultName, resultValue)\n",
    "\t\t\t\tdatawrite.write('%s: %s' % (resultName, resultValue) + '\\n')\n",
    "\t\t\t\t\n",
    "\t\tprint \"******************************************\"\n",
    "\t\tdatawrite.write('******************************************' + '\\n')\n",
    "        \n",
    "datawrite.close()\n",
    "xmlFile.close()"
   ]
  },
  {
   "cell_type": "markdown",
   "metadata": {},
   "source": [
    "After obtaining some initial summary of the F1 Grand Prix race, we can proceed to extract other interesting data. Similar to the element `properties` seen previously, `event` is another element and we need to traverse through `event_participant` within the `element` to look for other data such as participant name, gender, etc. We obtain these through looping the main tree and then again looping through the `event_participant` tree. The relevant data is obtained using the find and get methods. Under each participant, we also see that there are some results associated with it. These are obtained through looping within the `result` element.\n",
    "\n",
    "Finally, we close the XML file and the output file."
   ]
  }
 ],
 "metadata": {
  "kernelspec": {
   "display_name": "Python 2",
   "language": "python",
   "name": "python2"
  },
  "language_info": {
   "codemirror_mode": {
    "name": "ipython",
    "version": 2
   },
   "file_extension": ".py",
   "mimetype": "text/x-python",
   "name": "python",
   "nbconvert_exporter": "python",
   "pygments_lexer": "ipython2",
   "version": "2.7.10"
  }
 },
 "nbformat": 4,
 "nbformat_minor": 0
}
